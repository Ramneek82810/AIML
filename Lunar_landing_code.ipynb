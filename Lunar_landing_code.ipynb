{
  "cells": [
    {
      "cell_type": "markdown",
      "metadata": {
        "id": "view-in-github",
        "colab_type": "text"
      },
      "source": [
        "<a href=\"https://colab.research.google.com/github/Ramneek82810/AIML/blob/main/Lunar_landing_code.ipynb\" target=\"_parent\"><img src=\"https://colab.research.google.com/assets/colab-badge.svg\" alt=\"Open In Colab\"/></a>"
      ]
    },
    {
      "cell_type": "markdown",
      "metadata": {
        "id": "LbZcI9ZXHl3a"
      },
      "source": [
        "# Deep Q-Learning for Lunar Landing"
      ]
    },
    {
      "cell_type": "markdown",
      "metadata": {
        "id": "E8yPRjteXgPb"
      },
      "source": [
        "## Part 0 - Installing the required packages and importing the libraries"
      ]
    },
    {
      "cell_type": "markdown",
      "metadata": {
        "id": "slEm5teGWjWU"
      },
      "source": [
        "### Installing Gymnasium"
      ]
    },
    {
      "cell_type": "code",
      "execution_count": 1,
      "metadata": {
        "id": "dbnq3XpoKa_7",
        "colab": {
          "base_uri": "https://localhost:8080/"
        },
        "outputId": "90523d5a-1253-4457-a8ba-e3d3a06d21e3"
      },
      "outputs": [
        {
          "output_type": "stream",
          "name": "stdout",
          "text": [
            "Collecting gymnasium\n",
            "  Downloading gymnasium-0.29.1-py3-none-any.whl (953 kB)\n",
            "\u001b[2K     \u001b[90m━━━━━━━━━━━━━━━━━━━━━━━━━━━━━━━━━━━━━━━━\u001b[0m \u001b[32m953.9/953.9 kB\u001b[0m \u001b[31m6.8 MB/s\u001b[0m eta \u001b[36m0:00:00\u001b[0m\n",
            "\u001b[?25hRequirement already satisfied: numpy>=1.21.0 in /usr/local/lib/python3.10/dist-packages (from gymnasium) (1.25.2)\n",
            "Requirement already satisfied: cloudpickle>=1.2.0 in /usr/local/lib/python3.10/dist-packages (from gymnasium) (2.2.1)\n",
            "Requirement already satisfied: typing-extensions>=4.3.0 in /usr/local/lib/python3.10/dist-packages (from gymnasium) (4.12.2)\n",
            "Collecting farama-notifications>=0.0.1 (from gymnasium)\n",
            "  Downloading Farama_Notifications-0.0.4-py3-none-any.whl (2.5 kB)\n",
            "Installing collected packages: farama-notifications, gymnasium\n",
            "Successfully installed farama-notifications-0.0.4 gymnasium-0.29.1\n",
            "Requirement already satisfied: gymnasium[accept-rom-license,atari] in /usr/local/lib/python3.10/dist-packages (0.29.1)\n",
            "Requirement already satisfied: numpy>=1.21.0 in /usr/local/lib/python3.10/dist-packages (from gymnasium[accept-rom-license,atari]) (1.25.2)\n",
            "Requirement already satisfied: cloudpickle>=1.2.0 in /usr/local/lib/python3.10/dist-packages (from gymnasium[accept-rom-license,atari]) (2.2.1)\n",
            "Requirement already satisfied: typing-extensions>=4.3.0 in /usr/local/lib/python3.10/dist-packages (from gymnasium[accept-rom-license,atari]) (4.12.2)\n",
            "Requirement already satisfied: farama-notifications>=0.0.1 in /usr/local/lib/python3.10/dist-packages (from gymnasium[accept-rom-license,atari]) (0.0.4)\n",
            "Collecting shimmy[atari]<1.0,>=0.1.0 (from gymnasium[accept-rom-license,atari])\n",
            "  Downloading Shimmy-0.2.1-py3-none-any.whl (25 kB)\n",
            "Collecting autorom[accept-rom-license]~=0.4.2 (from gymnasium[accept-rom-license,atari])\n",
            "  Downloading AutoROM-0.4.2-py3-none-any.whl (16 kB)\n",
            "Requirement already satisfied: click in /usr/local/lib/python3.10/dist-packages (from autorom[accept-rom-license]~=0.4.2->gymnasium[accept-rom-license,atari]) (8.1.7)\n",
            "Requirement already satisfied: requests in /usr/local/lib/python3.10/dist-packages (from autorom[accept-rom-license]~=0.4.2->gymnasium[accept-rom-license,atari]) (2.31.0)\n",
            "Requirement already satisfied: tqdm in /usr/local/lib/python3.10/dist-packages (from autorom[accept-rom-license]~=0.4.2->gymnasium[accept-rom-license,atari]) (4.66.4)\n",
            "Collecting AutoROM.accept-rom-license (from autorom[accept-rom-license]~=0.4.2->gymnasium[accept-rom-license,atari])\n",
            "  Downloading AutoROM.accept-rom-license-0.6.1.tar.gz (434 kB)\n",
            "\u001b[2K     \u001b[90m━━━━━━━━━━━━━━━━━━━━━━━━━━━━━━━━━━━━━━━━\u001b[0m \u001b[32m434.7/434.7 kB\u001b[0m \u001b[31m13.3 MB/s\u001b[0m eta \u001b[36m0:00:00\u001b[0m\n",
            "\u001b[?25h  Installing build dependencies ... \u001b[?25l\u001b[?25hdone\n",
            "  Getting requirements to build wheel ... \u001b[?25l\u001b[?25hdone\n",
            "  Preparing metadata (pyproject.toml) ... \u001b[?25l\u001b[?25hdone\n",
            "Collecting ale-py~=0.8.1 (from shimmy[atari]<1.0,>=0.1.0->gymnasium[accept-rom-license,atari])\n",
            "  Downloading ale_py-0.8.1-cp310-cp310-manylinux_2_17_x86_64.manylinux2014_x86_64.whl (1.7 MB)\n",
            "\u001b[2K     \u001b[90m━━━━━━━━━━━━━━━━━━━━━━━━━━━━━━━━━━━━━━━━\u001b[0m \u001b[32m1.7/1.7 MB\u001b[0m \u001b[31m52.6 MB/s\u001b[0m eta \u001b[36m0:00:00\u001b[0m\n",
            "\u001b[?25hRequirement already satisfied: importlib-resources in /usr/local/lib/python3.10/dist-packages (from ale-py~=0.8.1->shimmy[atari]<1.0,>=0.1.0->gymnasium[accept-rom-license,atari]) (6.4.0)\n",
            "Requirement already satisfied: charset-normalizer<4,>=2 in /usr/local/lib/python3.10/dist-packages (from requests->autorom[accept-rom-license]~=0.4.2->gymnasium[accept-rom-license,atari]) (3.3.2)\n",
            "Requirement already satisfied: idna<4,>=2.5 in /usr/local/lib/python3.10/dist-packages (from requests->autorom[accept-rom-license]~=0.4.2->gymnasium[accept-rom-license,atari]) (3.7)\n",
            "Requirement already satisfied: urllib3<3,>=1.21.1 in /usr/local/lib/python3.10/dist-packages (from requests->autorom[accept-rom-license]~=0.4.2->gymnasium[accept-rom-license,atari]) (2.0.7)\n",
            "Requirement already satisfied: certifi>=2017.4.17 in /usr/local/lib/python3.10/dist-packages (from requests->autorom[accept-rom-license]~=0.4.2->gymnasium[accept-rom-license,atari]) (2024.6.2)\n",
            "Building wheels for collected packages: AutoROM.accept-rom-license\n",
            "  Building wheel for AutoROM.accept-rom-license (pyproject.toml) ... \u001b[?25l\u001b[?25hdone\n",
            "  Created wheel for AutoROM.accept-rom-license: filename=AutoROM.accept_rom_license-0.6.1-py3-none-any.whl size=446660 sha256=f1a781be20051bb376f6f324c2fd338df4dc33e6fa2c955c1e8cc27e22f39b0b\n",
            "  Stored in directory: /root/.cache/pip/wheels/6b/1b/ef/a43ff1a2f1736d5711faa1ba4c1f61be1131b8899e6a057811\n",
            "Successfully built AutoROM.accept-rom-license\n",
            "Installing collected packages: ale-py, shimmy, AutoROM.accept-rom-license, autorom\n",
            "Successfully installed AutoROM.accept-rom-license-0.6.1 ale-py-0.8.1 autorom-0.4.2 shimmy-0.2.1\n",
            "Reading package lists... Done\n",
            "Building dependency tree... Done\n",
            "Reading state information... Done\n",
            "The following additional packages will be installed:\n",
            "  swig4.0\n",
            "Suggested packages:\n",
            "  swig-doc swig-examples swig4.0-examples swig4.0-doc\n",
            "The following NEW packages will be installed:\n",
            "  swig swig4.0\n",
            "0 upgraded, 2 newly installed, 0 to remove and 45 not upgraded.\n",
            "Need to get 1,116 kB of archives.\n",
            "After this operation, 5,542 kB of additional disk space will be used.\n",
            "Get:1 http://archive.ubuntu.com/ubuntu jammy/universe amd64 swig4.0 amd64 4.0.2-1ubuntu1 [1,110 kB]\n",
            "Get:2 http://archive.ubuntu.com/ubuntu jammy/universe amd64 swig all 4.0.2-1ubuntu1 [5,632 B]\n",
            "Fetched 1,116 kB in 1s (1,410 kB/s)\n",
            "Selecting previously unselected package swig4.0.\n",
            "(Reading database ... 121925 files and directories currently installed.)\n",
            "Preparing to unpack .../swig4.0_4.0.2-1ubuntu1_amd64.deb ...\n",
            "Unpacking swig4.0 (4.0.2-1ubuntu1) ...\n",
            "Selecting previously unselected package swig.\n",
            "Preparing to unpack .../swig_4.0.2-1ubuntu1_all.deb ...\n",
            "Unpacking swig (4.0.2-1ubuntu1) ...\n",
            "Setting up swig4.0 (4.0.2-1ubuntu1) ...\n",
            "Setting up swig (4.0.2-1ubuntu1) ...\n",
            "Processing triggers for man-db (2.10.2-1) ...\n",
            "Requirement already satisfied: gymnasium[box2d] in /usr/local/lib/python3.10/dist-packages (0.29.1)\n",
            "Requirement already satisfied: numpy>=1.21.0 in /usr/local/lib/python3.10/dist-packages (from gymnasium[box2d]) (1.25.2)\n",
            "Requirement already satisfied: cloudpickle>=1.2.0 in /usr/local/lib/python3.10/dist-packages (from gymnasium[box2d]) (2.2.1)\n",
            "Requirement already satisfied: typing-extensions>=4.3.0 in /usr/local/lib/python3.10/dist-packages (from gymnasium[box2d]) (4.12.2)\n",
            "Requirement already satisfied: farama-notifications>=0.0.1 in /usr/local/lib/python3.10/dist-packages (from gymnasium[box2d]) (0.0.4)\n",
            "Collecting box2d-py==2.3.5 (from gymnasium[box2d])\n",
            "  Downloading box2d-py-2.3.5.tar.gz (374 kB)\n",
            "\u001b[2K     \u001b[90m━━━━━━━━━━━━━━━━━━━━━━━━━━━━━━━━━━━━━━━━\u001b[0m \u001b[32m374.4/374.4 kB\u001b[0m \u001b[31m7.6 MB/s\u001b[0m eta \u001b[36m0:00:00\u001b[0m\n",
            "\u001b[?25h  Preparing metadata (setup.py) ... \u001b[?25l\u001b[?25hdone\n",
            "Requirement already satisfied: pygame>=2.1.3 in /usr/local/lib/python3.10/dist-packages (from gymnasium[box2d]) (2.5.2)\n",
            "Collecting swig==4.* (from gymnasium[box2d])\n",
            "  Downloading swig-4.2.1-py2.py3-none-manylinux_2_5_x86_64.manylinux1_x86_64.whl (1.9 MB)\n",
            "\u001b[2K     \u001b[90m━━━━━━━━━━━━━━━━━━━━━━━━━━━━━━━━━━━━━━━━\u001b[0m \u001b[32m1.9/1.9 MB\u001b[0m \u001b[31m16.5 MB/s\u001b[0m eta \u001b[36m0:00:00\u001b[0m\n",
            "\u001b[?25hBuilding wheels for collected packages: box2d-py\n",
            "  Building wheel for box2d-py (setup.py) ... \u001b[?25l\u001b[?25hdone\n",
            "  Created wheel for box2d-py: filename=box2d_py-2.3.5-cp310-cp310-linux_x86_64.whl size=2349113 sha256=3797eff603b8e4ff9aacd6c4d118c0fdfe891ce0dcda3f4fef1e8aa1b4594424\n",
            "  Stored in directory: /root/.cache/pip/wheels/db/8f/6a/eaaadf056fba10a98d986f6dce954e6201ba3126926fc5ad9e\n",
            "Successfully built box2d-py\n",
            "Installing collected packages: swig, box2d-py\n",
            "Successfully installed box2d-py-2.3.5 swig-4.2.1\n"
          ]
        }
      ],
      "source": [
        "!pip install gymnasium\n",
        "!pip install \"gymnasium[atari, accept-rom-license]\"\n",
        "!apt-get install -y swig\n",
        "!pip install gymnasium[box2d]"
      ]
    },
    {
      "cell_type": "markdown",
      "metadata": {
        "id": "brqiMN3UW9T9"
      },
      "source": [
        "### Importing the libraries"
      ]
    },
    {
      "cell_type": "code",
      "execution_count": 5,
      "metadata": {
        "id": "mZaKXP_aMl9O"
      },
      "outputs": [],
      "source": [
        "import os\n",
        "import random\n",
        "import numpy as np\n",
        "import torch\n",
        "import torch.nn as nn\n",
        "import torch.optim as optim\n",
        "import torch.nn.functional as F\n",
        "import torch.autograd as autograd\n",
        "from torch.autograd import Variable\n",
        "from collections import deque, namedtuple"
      ]
    },
    {
      "cell_type": "markdown",
      "metadata": {
        "id": "EzlDKXvkXzGI"
      },
      "source": [
        "## Part 1 - Building the AI"
      ]
    },
    {
      "cell_type": "code",
      "source": [
        "class Network(nn.Module):\n",
        "\n",
        "  def __init__(self, state_size, action_size, seed = 42):\n",
        "    super(Network, self).__init__()\n",
        "    self.seed = torch.manual_seed(seed)\n",
        "    self.fc1 = nn.Linear(state_size, 64)\n",
        "    self.fc2 = nn.Linear(64, 64)\n",
        "    self.fc3 = nn.Linear (64, action_size)\n",
        "\n",
        "  def forward(self, state):\n",
        "    x = self.fc1(state)\n",
        "    x = F.relu(x)\n",
        "    x = self.fc2(x)\n",
        "    x = F.relu(x)\n",
        "    return self.fc3(x)"
      ],
      "metadata": {
        "id": "p3ffFptyWZS1"
      },
      "execution_count": 6,
      "outputs": []
    },
    {
      "cell_type": "markdown",
      "metadata": {
        "id": "UtG6Zc83YYy3"
      },
      "source": [
        "### Creating the architecture of the Neural Network"
      ]
    },
    {
      "cell_type": "markdown",
      "metadata": {
        "id": "UxVrBnFWZKb1"
      },
      "source": [
        "## Part 2 - Training the AI"
      ]
    },
    {
      "cell_type": "markdown",
      "metadata": {
        "id": "T364fz9qZb2j"
      },
      "source": [
        "### Setting up the environment"
      ]
    },
    {
      "cell_type": "code",
      "source": [
        "import gymnasium as gym\n",
        "env = gym.make('LunarLander-v2')\n",
        "state_shape = env.observation_space.shape\n",
        "state_size = env.observation_space.shape[0]\n",
        "number_actions = env.action_space.n\n",
        "print('State shape:', state_shape)\n",
        "print('State size:', state_size)\n",
        "print('Number of actions:', number_actions)"
      ],
      "metadata": {
        "colab": {
          "base_uri": "https://localhost:8080/"
        },
        "id": "NawWKoKfXxuI",
        "outputId": "b8d91adc-75c9-470b-fb1d-a8d5d9286511"
      },
      "execution_count": 7,
      "outputs": [
        {
          "output_type": "stream",
          "name": "stdout",
          "text": [
            "State shape: (8,)\n",
            "State size: 8\n",
            "Number of actions: 4\n"
          ]
        }
      ]
    },
    {
      "cell_type": "markdown",
      "metadata": {
        "id": "c_dZmOIvZgj-"
      },
      "source": [
        "### Initializing the hyperparameters"
      ]
    },
    {
      "cell_type": "code",
      "source": [
        "learning_rate = 5e-4\n",
        "minibatch_size = 100\n",
        "discount_factor = 0.99\n",
        "relay_buffer_size = int(1e5)\n",
        "interpolation_parameter = 1e-3"
      ],
      "metadata": {
        "id": "8ajw2N2iX1MB"
      },
      "execution_count": 8,
      "outputs": []
    },
    {
      "cell_type": "markdown",
      "metadata": {
        "id": "8hD_Vs-bYnip"
      },
      "source": [
        "### Implementing Experience Replay"
      ]
    },
    {
      "cell_type": "code",
      "source": [
        "class ReplayMemory(object):\n",
        "\n",
        "    def __init__(self, capacity):\n",
        "      self.device = torch.device(\"cuda:0\" if torch.cuda.is_available() else \"cpu\")\n",
        "      self.capacity = capacity\n",
        "      self.memory = []\n",
        "\n",
        "    def push(self, event):\n",
        "      self.memory.append(event)\n",
        "      if len(self.memory) > self.capacity:\n",
        "        del self.memory[0]\n",
        "\n",
        "    def sample(self, batch_size):\n",
        "      experiences = random.sample(self.memory, k = batch_size)\n",
        "      states = torch.from_numpy(np.vstack([e[0] for e in experiences if e is not None])).float().to(self.device)\n",
        "      actions = torch.from_numpy(np.vstack([e[1] for e in experiences if e is not None])).long().to(self.device)\n",
        "      rewards = torch.from_numpy(np.vstack([e[2] for e in experiences if e is not None])).float().to(self.device)\n",
        "      next_states = torch.from_numpy(np.vstack([e[3] for e in experiences if e is not None])).float().to(self.device)\n",
        "      dones = torch.from_numpy(np.vstack([e[4] for e in experiences if e is not None]).astype(np.uint8)).float().to(self.device)\n",
        "      return states, next_states, actions, rewards, dones\n"
      ],
      "metadata": {
        "id": "CN9juGI-X4N9"
      },
      "execution_count": 18,
      "outputs": []
    },
    {
      "cell_type": "markdown",
      "metadata": {
        "id": "JmEkbFbUY6Jt"
      },
      "source": [
        "### Implementing the DQN class"
      ]
    },
    {
      "cell_type": "code",
      "source": [
        "class Agent():\n",
        "\n",
        "  def __init__(self, state_size, action_size):\n",
        "    self.device = torch.device(\"cuda:0\" if torch.cuda.is_available() else \"cpu\")\n",
        "    self.state_size = state_size\n",
        "    self.action_size = action_size\n",
        "    #Q-learning\n",
        "    self.local_qnetwork = Network(state_size, action_size).to(self.device)\n",
        "    self.target_qnetwork = Network(state_size, action_size).to(self.device)\n",
        "    self.optimizer = optim.Adam(self.local_qnetwork.parameters(), lr = learning_rate)\n",
        "    self.memory = ReplayMemory(relay_buffer_size)\n",
        "    self.t_step = 0\n",
        "\n",
        "  def step(self, state, action, reward, next_state, done):\n",
        "    self.memory.push((state, action, reward, next_state, done))\n",
        "    self.t_step = (self.t_step + 1) % 4\n",
        "    if self.t_step == 0:\n",
        "      if len(self.memory.memory) > minibatch_size:\n",
        "        experiences = self.memory.sample(100)\n",
        "        self.learn(experiences, discount_factor)\n",
        "\n",
        "  def act(self, state, epsilon = 0.):\n",
        "   state = torch.from_numpy(state).float().unsqueeze(0).to(self.device)\n",
        "   self.local_qnetwork.eval()\n",
        "   with torch.no_grad():\n",
        "      action_values = self.local_qnetwork(state)\n",
        "   self.local_qnetwork.train()\n",
        "   if random.random() > epsilon:\n",
        "    return np.argmax(action_values.cpu().data.numpy())\n",
        "   else:\n",
        "     return random.choice(np.arange(self.action_size))\n",
        "\n",
        "  def learn(self, experiences, discount_factor):\n",
        "    states, next_states, actions, rewards, dones = experiences\n",
        "    next_q_targets = self.target_qnetwork(next_states).detach().max(1)[0].unsqueeze(1)\n",
        "    q_targets = rewards + (discount_factor * next_q_targets * (1 - dones))\n",
        "    q_expected = self.local_qnetwork(states).gather(1, actions)\n",
        "    loss = F.mse_loss(q_expected, q_targets)\n",
        "    self.optimizer.zero_grad()\n",
        "    loss.backward()\n",
        "    self.optimizer.step()\n",
        "    self.soft_update(self.local_qnetwork, self.target_qnetwork, interpolation_parameter)\n",
        "\n",
        "  def soft_update(self, local_model, target_model, interpolation_parameter):\n",
        "    for target_param, local_param in zip(target_model.parameters(), local_model.parameters()):\n",
        "      target_param.data.copy_(interpolation_parameter * local_param.data + (1.0 - interpolation_parameter) * target_param.data)\n"
      ],
      "metadata": {
        "colab": {
          "base_uri": "https://localhost:8080/"
        },
        "id": "j3gkRvCcX8sN",
        "outputId": "4e177211-0d97-49a7-e7cb-9d1cfe6b4c7c"
      },
      "execution_count": 22,
      "outputs": [
        {
          "output_type": "stream",
          "name": "stderr",
          "text": [
            "/usr/local/lib/python3.10/dist-packages/ipykernel/ipkernel.py:283: DeprecationWarning: `should_run_async` will not call `transform_cell` automatically in the future. Please pass the result to `transformed_cell` argument and any exception that happen during thetransform in `preprocessing_exc_tuple` in IPython 7.17 and above.\n",
            "  and should_run_async(code)\n"
          ]
        }
      ]
    },
    {
      "cell_type": "markdown",
      "metadata": {
        "id": "o1tZElccZmf6"
      },
      "source": [
        "### Initializing the DQN agent"
      ]
    },
    {
      "cell_type": "code",
      "source": [
        "agent = Agent(state_size, number_actions)"
      ],
      "metadata": {
        "id": "AKQ6m_WXYBng"
      },
      "execution_count": 23,
      "outputs": []
    },
    {
      "cell_type": "markdown",
      "metadata": {
        "id": "E8v0PtUfaVQp"
      },
      "source": [
        "### Training the DQN agent"
      ]
    },
    {
      "cell_type": "code",
      "source": [
        "number_episodes = 2000\n",
        "maximum_number_timesteps_per_episode = 1000\n",
        "epsilon_starting_value  = 1.0\n",
        "epsilon_ending_value  = 0.01\n",
        "epsilon_decay_value  = 0.995\n",
        "epsilon = epsilon_starting_value\n",
        "scores_on_100_episodes = deque(maxlen = 100)\n",
        "\n",
        "for episode in range(1, number_episodes + 1):\n",
        "  state, _ = env.reset()\n",
        "  score = 0\n",
        "  for t in range(maximum_number_timesteps_per_episode):\n",
        "    action = agent.act(state, epsilon)\n",
        "    next_state, reward, done, _, _ = env.step(action)\n",
        "    agent.step(state, action, reward, next_state, done)\n",
        "    state = next_state\n",
        "    score += reward\n",
        "    if done:\n",
        "      break\n",
        "  scores_on_100_episodes.append(score)\n",
        "  epsilon = max(epsilon_ending_value, epsilon_decay_value * epsilon)\n",
        "  print('\\rEpisode {}\\tAverage Score: {:.2f}'.format(episode, np.mean(scores_on_100_episodes)), end = \"\")\n",
        "  if episode % 100 == 0:\n",
        "    print('\\rEpisode {}\\tAverage Score: {:.2f}'.format(episode, np.mean(scores_on_100_episodes)))\n",
        "  if np.mean(scores_on_100_episodes) >= 200.0:\n",
        "    print('\\nEnvironment solved in {:d} episodes!\\tAverage Score: {:.2f}'.format(episode - 100, np.mean(scores_on_100_episodes)))\n",
        "    torch.save(agent.local_qnetwork.state_dict(), 'checkpoint.pth')\n",
        "    break"
      ],
      "metadata": {
        "colab": {
          "base_uri": "https://localhost:8080/"
        },
        "id": "otD7RcXnYGqd",
        "outputId": "97fa6be5-2f5a-40fa-c735-fb88983bc644"
      },
      "execution_count": 32,
      "outputs": [
        {
          "output_type": "stream",
          "name": "stdout",
          "text": [
            "Episode 100\tAverage Score: -98.77\n",
            "Episode 200\tAverage Score: -2.25\n",
            "Episode 300\tAverage Score: 76.67\n",
            "Episode 390\tAverage Score: 200.57\n",
            "Environment solved in 290 episodes!\tAverage Score: 200.57\n"
          ]
        }
      ]
    },
    {
      "cell_type": "markdown",
      "metadata": {
        "id": "O8CNwdOTcCoP"
      },
      "source": [
        "## Part 3 - Visualizing the results"
      ]
    },
    {
      "cell_type": "code",
      "execution_count": 33,
      "metadata": {
        "id": "cb9nVvU2Okhk",
        "colab": {
          "base_uri": "https://localhost:8080/",
          "height": 459
        },
        "outputId": "282e09ff-4d15-42df-8b68-64a6ea1085ab"
      },
      "outputs": [
        {
          "output_type": "stream",
          "name": "stderr",
          "text": [
            "WARNING:imageio_ffmpeg:IMAGEIO FFMPEG_WRITER WARNING: input image is not divisible by macro_block_size=16, resizing from (600, 400) to (608, 400) to ensure video compatibility with most codecs and players. To prevent resizing, make your input image divisible by the macro_block_size or set the macro_block_size to 1 (risking incompatibility).\n"
          ]
        },
        {
          "output_type": "display_data",
          "data": {
            "text/plain": [
              "<IPython.core.display.HTML object>"
            ],
            "text/html": [
              "<video alt=\"test\" autoplay\n",
              "                loop controls style=\"height: 400px;\">\n",
              "                <source src=\"data:video/mp4;base64,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\" type=\"video/mp4\" />\n",
              "             </video>"
            ]
          },
          "metadata": {}
        }
      ],
      "source": [
        "import glob\n",
        "import io\n",
        "import base64\n",
        "import imageio\n",
        "from IPython.display import HTML, display\n",
        "from gym.wrappers.monitoring.video_recorder import VideoRecorder\n",
        "\n",
        "def show_video_of_model(agent, env_name):\n",
        "    env = gym.make(env_name, render_mode='rgb_array')\n",
        "    state, _ = env.reset()\n",
        "    done = False\n",
        "    frames = []\n",
        "    while not done:\n",
        "        frame = env.render()\n",
        "        frames.append(frame)\n",
        "        action = agent.act(state)\n",
        "        state, reward, done, _, _ = env.step(action.item())\n",
        "    env.close()\n",
        "    imageio.mimsave('video.mp4', frames, fps=30)\n",
        "\n",
        "show_video_of_model(agent, 'LunarLander-v2')\n",
        "\n",
        "def show_video():\n",
        "    mp4list = glob.glob('*.mp4')\n",
        "    if len(mp4list) > 0:\n",
        "        mp4 = mp4list[0]\n",
        "        video = io.open(mp4, 'r+b').read()\n",
        "        encoded = base64.b64encode(video)\n",
        "        display(HTML(data='''<video alt=\"test\" autoplay\n",
        "                loop controls style=\"height: 400px;\">\n",
        "                <source src=\"data:video/mp4;base64,{0}\" type=\"video/mp4\" />\n",
        "             </video>'''.format(encoded.decode('ascii'))))\n",
        "    else:\n",
        "        print(\"Could not find video\")\n",
        "\n",
        "show_video()"
      ]
    }
  ],
  "metadata": {
    "colab": {
      "provenance": [],
      "include_colab_link": true
    },
    "kernelspec": {
      "display_name": "Python 3",
      "name": "python3"
    },
    "language_info": {
      "name": "python"
    }
  },
  "nbformat": 4,
  "nbformat_minor": 0
}